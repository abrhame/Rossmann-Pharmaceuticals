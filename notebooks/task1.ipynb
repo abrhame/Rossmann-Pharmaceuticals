{
 "cells": [
  {
   "cell_type": "code",
   "execution_count": 1,
   "metadata": {},
   "outputs": [],
   "source": [
    "import pandas as pd\n",
    "import numpy as np\n",
    "import matplotlib.pyplot as plt\n",
    "import seaborn as sns\n"
   ]
  },
  {
   "cell_type": "code",
   "execution_count": 7,
   "metadata": {},
   "outputs": [
    {
     "name": "stdout",
     "output_type": "stream",
     "text": [
      "   id StoreType Assortment  CompetitionDistance  CompetitionOpenSinceMonth  \\\n",
      "0   1         c          a               1270.0                        9.0   \n",
      "1   2         a          a                570.0                       11.0   \n",
      "2   3         a          a              14130.0                       12.0   \n",
      "3   4         c          c                620.0                        9.0   \n",
      "4   5         a          a              29910.0                        4.0   \n",
      "\n",
      "   CompetitionOpenSinceYear  Promo2  Promo2SinceWeek  Promo2SinceYear  \\\n",
      "0                    2008.0       0              NaN              NaN   \n",
      "1                    2007.0       1             13.0           2010.0   \n",
      "2                    2006.0       1             14.0           2011.0   \n",
      "3                    2009.0       0              NaN              NaN   \n",
      "4                    2015.0       0              NaN              NaN   \n",
      "\n",
      "     PromoInterval  \n",
      "0              NaN  \n",
      "1  Jan,Apr,Jul,Oct  \n",
      "2  Jan,Apr,Jul,Oct  \n",
      "3              NaN  \n",
      "4              NaN  \n",
      "   id  DayOfWeek        Date  Sales  Customers  Open  Promo StateHoliday  \\\n",
      "0   1          5  2015-07-31   5263        555     1      1            0   \n",
      "1   2          5  2015-07-31   6064        625     1      1            0   \n",
      "2   3          5  2015-07-31   8314        821     1      1            0   \n",
      "3   4          5  2015-07-31  13995       1498     1      1            0   \n",
      "4   5          5  2015-07-31   4822        559     1      1            0   \n",
      "\n",
      "   SchoolHoliday  \n",
      "0              1  \n",
      "1              1  \n",
      "2              1  \n",
      "3              1  \n",
      "4              1  \n"
     ]
    },
    {
     "name": "stderr",
     "output_type": "stream",
     "text": [
      "/tmp/ipykernel_7360/444298456.py:3: DtypeWarning: Columns (7) have mixed types. Specify dtype option on import or set low_memory=False.\n",
      "  df_train = pd.read_csv('../data/train.csv')\n"
     ]
    }
   ],
   "source": [
    "df_store = pd.read_csv('../data/store.csv')\n",
    "df_store.rename(columns={df_store.columns[0]: 'id'}, inplace=True)\n",
    "df_train = pd.read_csv('../data/train.csv')\n",
    "df_train.rename(columns={df_train.columns[0]: 'id'}, inplace=True)\n",
    "\n",
    "\n",
    "print(df_store.head())\n",
    "print(df_train.head())"
   ]
  },
  {
   "cell_type": "code",
   "execution_count": 13,
   "metadata": {},
   "outputs": [
    {
     "name": "stdout",
     "output_type": "stream",
     "text": [
      "           id  DayOfWeek        Date  Sales  Customers  Open  Promo  \\\n",
      "0           1          5  2015-07-31   5263        555     1      1   \n",
      "1           2          5  2015-07-31   6064        625     1      1   \n",
      "2           3          5  2015-07-31   8314        821     1      1   \n",
      "3           4          5  2015-07-31  13995       1498     1      1   \n",
      "4           5          5  2015-07-31   4822        559     1      1   \n",
      "...       ...        ...         ...    ...        ...   ...    ...   \n",
      "1017204  1111          2  2013-01-01      0          0     0      0   \n",
      "1017205  1112          2  2013-01-01      0          0     0      0   \n",
      "1017206  1113          2  2013-01-01      0          0     0      0   \n",
      "1017207  1114          2  2013-01-01      0          0     0      0   \n",
      "1017208  1115          2  2013-01-01      0          0     0      0   \n",
      "\n",
      "        StateHoliday  SchoolHoliday StoreType Assortment  CompetitionDistance  \\\n",
      "0                  0              1         c          a               1270.0   \n",
      "1                  0              1         a          a                570.0   \n",
      "2                  0              1         a          a              14130.0   \n",
      "3                  0              1         c          c                620.0   \n",
      "4                  0              1         a          a              29910.0   \n",
      "...              ...            ...       ...        ...                  ...   \n",
      "1017204            a              1         a          a               1900.0   \n",
      "1017205            a              1         c          c               1880.0   \n",
      "1017206            a              1         a          c               9260.0   \n",
      "1017207            a              1         a          c                870.0   \n",
      "1017208            a              1         d          c               5350.0   \n",
      "\n",
      "         CompetitionOpenSinceMonth  CompetitionOpenSinceYear  Promo2  \\\n",
      "0                              9.0                    2008.0       0   \n",
      "1                             11.0                    2007.0       1   \n",
      "2                             12.0                    2006.0       1   \n",
      "3                              9.0                    2009.0       0   \n",
      "4                              4.0                    2015.0       0   \n",
      "...                            ...                       ...     ...   \n",
      "1017204                        6.0                    2014.0       1   \n",
      "1017205                        4.0                    2006.0       0   \n",
      "1017206                        NaN                       NaN       0   \n",
      "1017207                        NaN                       NaN       0   \n",
      "1017208                        NaN                       NaN       1   \n",
      "\n",
      "         Promo2SinceWeek  Promo2SinceYear     PromoInterval  \n",
      "0                    NaN              NaN               NaN  \n",
      "1                   13.0           2010.0   Jan,Apr,Jul,Oct  \n",
      "2                   14.0           2011.0   Jan,Apr,Jul,Oct  \n",
      "3                    NaN              NaN               NaN  \n",
      "4                    NaN              NaN               NaN  \n",
      "...                  ...              ...               ...  \n",
      "1017204             31.0           2013.0   Jan,Apr,Jul,Oct  \n",
      "1017205              NaN              NaN               NaN  \n",
      "1017206              NaN              NaN               NaN  \n",
      "1017207              NaN              NaN               NaN  \n",
      "1017208             22.0           2012.0  Mar,Jun,Sept,Dec  \n",
      "\n",
      "[1017209 rows x 18 columns]\n"
     ]
    }
   ],
   "source": [
    "df_merged = pd.merge(df_train,df_store, on='id', how='inner')\n",
    "print(df_merged)\n",
    "df_merged.to_csv('../data/merged.csv',index=False)"
   ]
  },
  {
   "cell_type": "code",
   "execution_count": null,
   "metadata": {},
   "outputs": [],
   "source": []
  }
 ],
 "metadata": {
  "kernelspec": {
   "display_name": "env",
   "language": "python",
   "name": "python3"
  },
  "language_info": {
   "codemirror_mode": {
    "name": "ipython",
    "version": 3
   },
   "file_extension": ".py",
   "mimetype": "text/x-python",
   "name": "python",
   "nbconvert_exporter": "python",
   "pygments_lexer": "ipython3",
   "version": "3.11.4"
  }
 },
 "nbformat": 4,
 "nbformat_minor": 2
}
