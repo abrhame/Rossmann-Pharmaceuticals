{
 "cells": [
  {
   "cell_type": "markdown",
   "metadata": {},
   "source": [
    "# Task 2 - Prediction of store sales"
   ]
  },
  {
   "cell_type": "code",
   "execution_count": 1,
   "metadata": {},
   "outputs": [],
   "source": [
    "import pandas as pd\n",
    "import numpy as np\n",
    "import matplotlib.pyplot as plt\n",
    "import seaborn as sns\n",
    "import logging\n",
    "from sklearn.pipeline import Pipeline\n",
    "from sklearn.compose import ColumnTransformer\n",
    "from sklearn.ensemble import RandomForestRegressor, RandomForestClassifier\n",
    "from sklearn.metrics import mean_squared_error\n",
    "from sklearn.model_selection import train_test_split"
   ]
  },
  {
   "cell_type": "markdown",
   "metadata": {},
   "source": [
    "### Get the merged data of the train and store"
   ]
  },
  {
   "cell_type": "code",
   "execution_count": 2,
   "metadata": {},
   "outputs": [
    {
     "name": "stdout",
     "output_type": "stream",
     "text": [
      "100000\n"
     ]
    },
    {
     "name": "stderr",
     "output_type": "stream",
     "text": [
      "/tmp/ipykernel_15627/1568794758.py:2: DtypeWarning: Columns (7) have mixed types. Specify dtype option on import or set low_memory=False.\n",
      "  df = pd.read_csv('../data/merged.csv')\n"
     ]
    }
   ],
   "source": [
    "logging.info('fetch the csv data')\n",
    "df = pd.read_csv('../data/merged.csv')\n",
    "df = df.head(100000)\n",
    "print(len(df))"
   ]
  },
  {
   "cell_type": "code",
   "execution_count": 3,
   "metadata": {},
   "outputs": [
    {
     "name": "stdout",
     "output_type": "stream",
     "text": [
      "Id                           0\n",
      "DayOfWeek                    0\n",
      "Date                         0\n",
      "Sales                        0\n",
      "Customers                    0\n",
      "Open                         0\n",
      "Promo                        0\n",
      "StateHoliday                 0\n",
      "SchoolHoliday                0\n",
      "CompetitionDistance          0\n",
      "CompetitionOpenSinceMonth    0\n",
      "CompetitionOpenSinceYear     0\n",
      "Promo2                       0\n",
      "Promo2SinceWeek              0\n",
      "Promo2SinceYear              0\n",
      "PromoInterval                0\n",
      "Year                         0\n",
      "Month                        0\n",
      "Day                          0\n",
      "WeekOfYear                   0\n",
      "IsMonthStart                 0\n",
      "IsMonthEnd                   0\n",
      "StoreType_a                  0\n",
      "StoreType_b                  0\n",
      "StoreType_c                  0\n",
      "StoreType_d                  0\n",
      "Assortment_a                 0\n",
      "Assortment_b                 0\n",
      "Assortment_c                 0\n",
      "DayOfMonth                   0\n",
      "dtype: int64\n"
     ]
    }
   ],
   "source": [
    "logging.info('check for missing values')\n",
    "print(df.isnull().sum())"
   ]
  },
  {
   "cell_type": "code",
   "execution_count": 4,
   "metadata": {},
   "outputs": [
    {
     "name": "stderr",
     "output_type": "stream",
     "text": [
      "/tmp/ipykernel_15627/1314532227.py:2: FutureWarning: A value is trying to be set on a copy of a DataFrame or Series through chained assignment using an inplace method.\n",
      "The behavior will change in pandas 3.0. This inplace method will never work because the intermediate object on which we are setting values always behaves as a copy.\n",
      "\n",
      "For example, when doing 'df[col].method(value, inplace=True)', try using 'df.method({col: value}, inplace=True)' or df[col] = df[col].method(value) instead, to perform the operation inplace on the original object.\n",
      "\n",
      "\n",
      "  df['Promo2SinceWeek'].fillna(0, inplace=True)\n",
      "/tmp/ipykernel_15627/1314532227.py:3: FutureWarning: A value is trying to be set on a copy of a DataFrame or Series through chained assignment using an inplace method.\n",
      "The behavior will change in pandas 3.0. This inplace method will never work because the intermediate object on which we are setting values always behaves as a copy.\n",
      "\n",
      "For example, when doing 'df[col].method(value, inplace=True)', try using 'df.method({col: value}, inplace=True)' or df[col] = df[col].method(value) instead, to perform the operation inplace on the original object.\n",
      "\n",
      "\n",
      "  df['Promo2SinceYear'].fillna(0, inplace=True)\n",
      "/tmp/ipykernel_15627/1314532227.py:4: FutureWarning: A value is trying to be set on a copy of a DataFrame or Series through chained assignment using an inplace method.\n",
      "The behavior will change in pandas 3.0. This inplace method will never work because the intermediate object on which we are setting values always behaves as a copy.\n",
      "\n",
      "For example, when doing 'df[col].method(value, inplace=True)', try using 'df.method({col: value}, inplace=True)' or df[col] = df[col].method(value) instead, to perform the operation inplace on the original object.\n",
      "\n",
      "\n",
      "  df['PromoInterval'].fillna(0, inplace=True)\n",
      "/tmp/ipykernel_15627/1314532227.py:6: FutureWarning: A value is trying to be set on a copy of a DataFrame or Series through chained assignment using an inplace method.\n",
      "The behavior will change in pandas 3.0. This inplace method will never work because the intermediate object on which we are setting values always behaves as a copy.\n",
      "\n",
      "For example, when doing 'df[col].method(value, inplace=True)', try using 'df.method({col: value}, inplace=True)' or df[col] = df[col].method(value) instead, to perform the operation inplace on the original object.\n",
      "\n",
      "\n",
      "  df['CompetitionOpenSinceMonth'].fillna(0, inplace=True)\n",
      "/tmp/ipykernel_15627/1314532227.py:7: FutureWarning: A value is trying to be set on a copy of a DataFrame or Series through chained assignment using an inplace method.\n",
      "The behavior will change in pandas 3.0. This inplace method will never work because the intermediate object on which we are setting values always behaves as a copy.\n",
      "\n",
      "For example, when doing 'df[col].method(value, inplace=True)', try using 'df.method({col: value}, inplace=True)' or df[col] = df[col].method(value) instead, to perform the operation inplace on the original object.\n",
      "\n",
      "\n",
      "  df['CompetitionOpenSinceYear'].fillna(0, inplace=True)\n"
     ]
    }
   ],
   "source": [
    "logging.info('fill missing values')\n",
    "df['Promo2SinceWeek'].fillna(0, inplace=True)\n",
    "df['Promo2SinceYear'].fillna(0, inplace=True)\n",
    "df['PromoInterval'].fillna(0, inplace=True)\n",
    "\n",
    "df['CompetitionOpenSinceMonth'].fillna(0, inplace=True)\n",
    "df['CompetitionOpenSinceYear'].fillna(0, inplace=True)"
   ]
  },
  {
   "cell_type": "code",
   "execution_count": 5,
   "metadata": {},
   "outputs": [
    {
     "name": "stdout",
     "output_type": "stream",
     "text": [
      "Id                           0\n",
      "DayOfWeek                    0\n",
      "Date                         0\n",
      "Sales                        0\n",
      "Customers                    0\n",
      "Open                         0\n",
      "Promo                        0\n",
      "StateHoliday                 0\n",
      "SchoolHoliday                0\n",
      "CompetitionDistance          0\n",
      "CompetitionOpenSinceMonth    0\n",
      "CompetitionOpenSinceYear     0\n",
      "Promo2                       0\n",
      "Promo2SinceWeek              0\n",
      "Promo2SinceYear              0\n",
      "PromoInterval                0\n",
      "Year                         0\n",
      "Month                        0\n",
      "Day                          0\n",
      "WeekOfYear                   0\n",
      "IsMonthStart                 0\n",
      "IsMonthEnd                   0\n",
      "StoreType_a                  0\n",
      "StoreType_b                  0\n",
      "StoreType_c                  0\n",
      "StoreType_d                  0\n",
      "Assortment_a                 0\n",
      "Assortment_b                 0\n",
      "Assortment_c                 0\n",
      "DayOfMonth                   0\n",
      "dtype: int64\n"
     ]
    }
   ],
   "source": [
    "logging.info('check for missing values')\n",
    "print(df.isnull().sum())"
   ]
  },
  {
   "cell_type": "code",
   "execution_count": 6,
   "metadata": {},
   "outputs": [
    {
     "name": "stdout",
     "output_type": "stream",
     "text": [
      "<class 'pandas.core.frame.DataFrame'>\n",
      "RangeIndex: 100000 entries, 0 to 99999\n",
      "Data columns (total 30 columns):\n",
      " #   Column                     Non-Null Count   Dtype  \n",
      "---  ------                     --------------   -----  \n",
      " 0   Id                         100000 non-null  int64  \n",
      " 1   DayOfWeek                  100000 non-null  int64  \n",
      " 2   Date                       100000 non-null  object \n",
      " 3   Sales                      100000 non-null  int64  \n",
      " 4   Customers                  100000 non-null  int64  \n",
      " 5   Open                       100000 non-null  int64  \n",
      " 6   Promo                      100000 non-null  int64  \n",
      " 7   StateHoliday               100000 non-null  object \n",
      " 8   SchoolHoliday              100000 non-null  int64  \n",
      " 9   CompetitionDistance        100000 non-null  float64\n",
      " 10  CompetitionOpenSinceMonth  100000 non-null  float64\n",
      " 11  CompetitionOpenSinceYear   100000 non-null  float64\n",
      " 12  Promo2                     100000 non-null  int64  \n",
      " 13  Promo2SinceWeek            100000 non-null  float64\n",
      " 14  Promo2SinceYear            100000 non-null  float64\n",
      " 15  PromoInterval              100000 non-null  object \n",
      " 16  Year                       100000 non-null  int64  \n",
      " 17  Month                      100000 non-null  int64  \n",
      " 18  Day                        100000 non-null  int64  \n",
      " 19  WeekOfYear                 100000 non-null  int64  \n",
      " 20  IsMonthStart               100000 non-null  bool   \n",
      " 21  IsMonthEnd                 100000 non-null  bool   \n",
      " 22  StoreType_a                100000 non-null  bool   \n",
      " 23  StoreType_b                100000 non-null  bool   \n",
      " 24  StoreType_c                100000 non-null  bool   \n",
      " 25  StoreType_d                100000 non-null  bool   \n",
      " 26  Assortment_a               100000 non-null  bool   \n",
      " 27  Assortment_b               100000 non-null  bool   \n",
      " 28  Assortment_c               100000 non-null  bool   \n",
      " 29  DayOfMonth                 100000 non-null  int32  \n",
      "dtypes: bool(9), float64(5), int32(1), int64(12), object(3)\n",
      "memory usage: 16.5+ MB\n",
      "None\n"
     ]
    }
   ],
   "source": [
    "logging.info('Get additional paramaeters from the Date column')\n",
    "df['DayOfMonth'] = pd.to_datetime(df['Date']).dt.day\n",
    "df['IsMonthStart'] = pd.to_datetime(df['Date']).dt.is_month_start\n",
    "df['IsMonthEnd'] = pd.to_datetime(df['Date']).dt.is_month_end \n",
    "print(df.info())"
   ]
  },
  {
   "cell_type": "code",
   "execution_count": 7,
   "metadata": {},
   "outputs": [],
   "source": [
    "logging.info('Save the new features into the merged data')\n",
    "df.to_csv('../data/merged.csv', index=False)"
   ]
  },
  {
   "cell_type": "code",
   "execution_count": 8,
   "metadata": {},
   "outputs": [
    {
     "name": "stdout",
     "output_type": "stream",
     "text": [
      "   Id  DayOfWeek        Date  Sales  Customers  Open  Promo  SchoolHoliday  \\\n",
      "0   1          4  2015-07-31   5263        555     1      1              1   \n",
      "1   2          4  2015-07-31   6064        625     1      1              1   \n",
      "2   3          4  2015-07-31   8314        821     1      1              1   \n",
      "3   4          4  2015-07-31  13995       1498     1      1              1   \n",
      "4   5          4  2015-07-31   4822        559     1      1              1   \n",
      "\n",
      "   CompetitionDistance  CompetitionOpenSinceMonth  ...  StoreType_a  \\\n",
      "0               1270.0                        9.0  ...        False   \n",
      "1                570.0                       11.0  ...         True   \n",
      "2              14130.0                       12.0  ...         True   \n",
      "3                620.0                        9.0  ...        False   \n",
      "4              29910.0                        4.0  ...         True   \n",
      "\n",
      "   StoreType_b  StoreType_c  StoreType_d Assortment_a  Assortment_b  \\\n",
      "0        False         True        False         True         False   \n",
      "1        False        False        False         True         False   \n",
      "2        False        False        False         True         False   \n",
      "3        False         True        False        False         False   \n",
      "4        False        False        False         True         False   \n",
      "\n",
      "   Assortment_c  DayOfMonth  StateHoliday_0  StateHoliday_a  \n",
      "0         False          31               0               0  \n",
      "1         False          31               0               0  \n",
      "2         False          31               0               0  \n",
      "3          True          31               0               0  \n",
      "4         False          31               0               0  \n",
      "\n",
      "[5 rows x 31 columns]\n"
     ]
    }
   ],
   "source": [
    "logging.info('one hot encoding for the categoriacal variables like store type and assortment')\n",
    "if 'StoreType' in df.columns:\n",
    "    df = pd.get_dummies(df, columns=['StoreType', 'Assortment'], drop_first=True, dtype=int)\n",
    "if  'Assortment' in df.columns:\n",
    "    df = pd.get_dummies(df, columns=['Assortment'], drop_first=True, dtype=int)\n",
    "if 'StateHoliday' in df.columns:\n",
    "    df = pd.get_dummies(df, columns=['StateHoliday'], drop_first=True, dtype=int)\n",
    "print(df.head(5))"
   ]
  },
  {
   "cell_type": "code",
   "execution_count": 9,
   "metadata": {},
   "outputs": [],
   "source": [
    "logging.info('Handling PromoInterval')\n",
    "df['PromoInterval'] = df['PromoInterval'].fillna('0')\n",
    "df['PromoMonths'] = df['PromoInterval'].apply(lambda x: len(str(x).split(',')) if x != '0' else 0)\n",
    "df = df.drop('PromoInterval', axis=1)\n"
   ]
  },
  {
   "cell_type": "code",
   "execution_count": 10,
   "metadata": {},
   "outputs": [],
   "source": [
    "logging.info(\"define the numerical columns\")\n",
    "numeric_cols = ['DayOfWeek', 'Customers', 'Open', 'Promo', 'SchoolHoliday', \n",
    "                'CompetitionDistance', 'Promo2SinceYear', 'Promo2SinceWeek', \n",
    "                'CompetitionOpenSinceMonth', 'CompetitionOpenSinceYear', \n",
    "                'Year', 'Month', 'DayOfMonth', 'WeekOfYear',\n",
    "                'IsMonthStart', 'IsMonthEnd']"
   ]
  },
  {
   "cell_type": "code",
   "execution_count": 11,
   "metadata": {},
   "outputs": [],
   "source": [
    "logging.info('define the catagorical columns')\n",
    "logging.info('Defining the categorical columns')\n",
    "categorical_cols = [col for col in df.columns if col.startswith(('StoreType_', 'Assortment_', 'StateHoliday_'))]\n"
   ]
  },
  {
   "cell_type": "code",
   "execution_count": 12,
   "metadata": {},
   "outputs": [],
   "source": [
    "from sklearn.preprocessing import StandardScaler , OneHotEncoder\n",
    "\n",
    "\n",
    "logging.info('define the transformer for the numerical columns')\n",
    "\n",
    "numeric_transformer = Pipeline(steps=[('scalar', StandardScaler())])\n",
    "categorical_transformer = Pipeline(steps=[('onehot', OneHotEncoder(drop='first', handle_unknown='ignore'))])"
   ]
  },
  {
   "cell_type": "code",
   "execution_count": 13,
   "metadata": {},
   "outputs": [],
   "source": [
    "logging.info('update the preprocessor pipline')\n",
    "preprocessor = ColumnTransformer(\n",
    "    transformers=[\n",
    "        ('num', numeric_transformer, numeric_cols),\n",
    "        ('cat', categorical_transformer, categorical_cols)\n",
    "    ]\n",
    ")\n"
   ]
  },
  {
   "cell_type": "code",
   "execution_count": 14,
   "metadata": {},
   "outputs": [],
   "source": [
    "logging.info('regression pipline with the preprocessor and random forest regressor')\n",
    "regression_pipeline = Pipeline(steps=[\n",
    "    ('preprocessor', preprocessor),\n",
    "    ('regressor', RandomForestRegressor())\n",
    "])"
   ]
  },
  {
   "cell_type": "code",
   "execution_count": 15,
   "metadata": {},
   "outputs": [
    {
     "data": {
      "text/plain": [
       "Id                             int64\n",
       "DayOfWeek                      int64\n",
       "Date                          object\n",
       "Sales                          int64\n",
       "Customers                      int64\n",
       "Open                           int64\n",
       "Promo                          int64\n",
       "SchoolHoliday                  int64\n",
       "CompetitionDistance          float64\n",
       "CompetitionOpenSinceMonth    float64\n",
       "CompetitionOpenSinceYear     float64\n",
       "Promo2                         int64\n",
       "Promo2SinceWeek              float64\n",
       "Promo2SinceYear              float64\n",
       "Year                           int64\n",
       "Month                          int64\n",
       "Day                            int64\n",
       "WeekOfYear                     int64\n",
       "IsMonthStart                    bool\n",
       "IsMonthEnd                      bool\n",
       "StoreType_a                     bool\n",
       "StoreType_b                     bool\n",
       "StoreType_c                     bool\n",
       "StoreType_d                     bool\n",
       "Assortment_a                    bool\n",
       "Assortment_b                    bool\n",
       "Assortment_c                    bool\n",
       "DayOfMonth                     int32\n",
       "StateHoliday_0                 int64\n",
       "StateHoliday_a                 int64\n",
       "PromoMonths                    int64\n",
       "dtype: object"
      ]
     },
     "execution_count": 15,
     "metadata": {},
     "output_type": "execute_result"
    }
   ],
   "source": [
    "logging.info('split the data into X and Y')\n",
    "X = df.drop(columns=['Date', 'Sales', 'Id'])\n",
    "y = df['Sales']\n",
    "df.dtypes\n",
    "# print(df.head(5))"
   ]
  },
  {
   "cell_type": "code",
   "execution_count": 16,
   "metadata": {},
   "outputs": [],
   "source": [
    "logging.info('split the data into train and test')\n",
    "\n",
    "X_train, X_test, y_train, y_test = train_test_split(X, y, test_size=0.2, random_state=42)"
   ]
  },
  {
   "cell_type": "code",
   "execution_count": 17,
   "metadata": {},
   "outputs": [
    {
     "name": "stdout",
     "output_type": "stream",
     "text": [
      "       DayOfWeek  Customers  Open  Promo  SchoolHoliday  CompetitionDistance  \\\n",
      "75220          0          0     0      0              0                 20.0   \n",
      "48955          3        780     1      1              0                490.0   \n",
      "44966          6          0     0      0              0               2640.0   \n",
      "13568          6          0     0      0              0               5760.0   \n",
      "92727          5        418     1      0              0               9670.0   \n",
      "...          ...        ...   ...    ...            ...                  ...   \n",
      "6265           6          0     0      0              0               3030.0   \n",
      "54886          4        650     1      0              0              22330.0   \n",
      "76820          6          0     0      0              0              19640.0   \n",
      "860            4        655     1      1              1                740.0   \n",
      "15795          4        387     1      1              0                290.0   \n",
      "\n",
      "       CompetitionOpenSinceMonth  CompetitionOpenSinceYear  Promo2  \\\n",
      "75220                        0.0                       0.0       1   \n",
      "48955                        9.0                    2012.0       1   \n",
      "44966                        9.0                    2012.0       0   \n",
      "13568                        7.0                    2014.0       0   \n",
      "92727                        0.0                       0.0       0   \n",
      "...                          ...                       ...     ...   \n",
      "6265                         0.0                       0.0       1   \n",
      "54886                        0.0                       0.0       1   \n",
      "76820                        0.0                       0.0       1   \n",
      "860                          0.0                       0.0       1   \n",
      "15795                       10.0                    2011.0       1   \n",
      "\n",
      "       Promo2SinceWeek  ...  StoreType_b  StoreType_c  StoreType_d  \\\n",
      "75220             35.0  ...        False        False        False   \n",
      "48955             18.0  ...        False        False        False   \n",
      "44966              0.0  ...        False        False         True   \n",
      "13568              0.0  ...        False        False         True   \n",
      "92727              0.0  ...        False        False        False   \n",
      "...                ...  ...          ...          ...          ...   \n",
      "6265              37.0  ...        False        False         True   \n",
      "54886              5.0  ...        False        False         True   \n",
      "76820             14.0  ...        False         True        False   \n",
      "860               14.0  ...        False         True        False   \n",
      "15795             40.0  ...        False        False        False   \n",
      "\n",
      "       Assortment_a  Assortment_b  Assortment_c  DayOfMonth  StateHoliday_0  \\\n",
      "75220         False         False          True          25               0   \n",
      "48955         False         False          True          18               1   \n",
      "44966         False         False          True          21               1   \n",
      "13568          True         False         False          19               0   \n",
      "92727          True         False         False           9               1   \n",
      "...             ...           ...           ...         ...             ...   \n",
      "6265          False         False          True          26               0   \n",
      "54886         False         False          True          12               1   \n",
      "76820          True         False         False          24               1   \n",
      "860           False         False          True          31               0   \n",
      "15795          True         False         False          17               0   \n",
      "\n",
      "       StateHoliday_a  PromoMonths  \n",
      "75220               1            4  \n",
      "48955               0            4  \n",
      "44966               0            0  \n",
      "13568               0            0  \n",
      "92727               0            0  \n",
      "...               ...          ...  \n",
      "6265                0            4  \n",
      "54886               0            4  \n",
      "76820               0            4  \n",
      "860                 0            4  \n",
      "15795               0            4  \n",
      "\n",
      "[80000 rows x 28 columns]\n",
      "<class 'pandas.core.frame.DataFrame'>\n",
      "Index: 80000 entries, 75220 to 15795\n",
      "Data columns (total 28 columns):\n",
      " #   Column                     Non-Null Count  Dtype  \n",
      "---  ------                     --------------  -----  \n",
      " 0   DayOfWeek                  80000 non-null  int64  \n",
      " 1   Customers                  80000 non-null  int64  \n",
      " 2   Open                       80000 non-null  int64  \n",
      " 3   Promo                      80000 non-null  int64  \n",
      " 4   SchoolHoliday              80000 non-null  int64  \n",
      " 5   CompetitionDistance        80000 non-null  float64\n",
      " 6   CompetitionOpenSinceMonth  80000 non-null  float64\n",
      " 7   CompetitionOpenSinceYear   80000 non-null  float64\n",
      " 8   Promo2                     80000 non-null  int64  \n",
      " 9   Promo2SinceWeek            80000 non-null  float64\n",
      " 10  Promo2SinceYear            80000 non-null  float64\n",
      " 11  Year                       80000 non-null  int64  \n",
      " 12  Month                      80000 non-null  int64  \n",
      " 13  Day                        80000 non-null  int64  \n",
      " 14  WeekOfYear                 80000 non-null  int64  \n",
      " 15  IsMonthStart               80000 non-null  bool   \n",
      " 16  IsMonthEnd                 80000 non-null  bool   \n",
      " 17  StoreType_a                80000 non-null  bool   \n",
      " 18  StoreType_b                80000 non-null  bool   \n",
      " 19  StoreType_c                80000 non-null  bool   \n",
      " 20  StoreType_d                80000 non-null  bool   \n",
      " 21  Assortment_a               80000 non-null  bool   \n",
      " 22  Assortment_b               80000 non-null  bool   \n",
      " 23  Assortment_c               80000 non-null  bool   \n",
      " 24  DayOfMonth                 80000 non-null  int32  \n",
      " 25  StateHoliday_0             80000 non-null  int64  \n",
      " 26  StateHoliday_a             80000 non-null  int64  \n",
      " 27  PromoMonths                80000 non-null  int64  \n",
      "dtypes: bool(9), float64(5), int32(1), int64(13)\n",
      "memory usage: 12.6 MB\n",
      "None\n"
     ]
    }
   ],
   "source": [
    "print(X_train)\n",
    "print(X_train.info())\n",
    "\n"
   ]
  },
  {
   "cell_type": "code",
   "execution_count": 18,
   "metadata": {},
   "outputs": [
    {
     "data": {
      "text/html": [
       "<style>#sk-container-id-1 {\n",
       "  /* Definition of color scheme common for light and dark mode */\n",
       "  --sklearn-color-text: black;\n",
       "  --sklearn-color-line: gray;\n",
       "  /* Definition of color scheme for unfitted estimators */\n",
       "  --sklearn-color-unfitted-level-0: #fff5e6;\n",
       "  --sklearn-color-unfitted-level-1: #f6e4d2;\n",
       "  --sklearn-color-unfitted-level-2: #ffe0b3;\n",
       "  --sklearn-color-unfitted-level-3: chocolate;\n",
       "  /* Definition of color scheme for fitted estimators */\n",
       "  --sklearn-color-fitted-level-0: #f0f8ff;\n",
       "  --sklearn-color-fitted-level-1: #d4ebff;\n",
       "  --sklearn-color-fitted-level-2: #b3dbfd;\n",
       "  --sklearn-color-fitted-level-3: cornflowerblue;\n",
       "\n",
       "  /* Specific color for light theme */\n",
       "  --sklearn-color-text-on-default-background: var(--sg-text-color, var(--theme-code-foreground, var(--jp-content-font-color1, black)));\n",
       "  --sklearn-color-background: var(--sg-background-color, var(--theme-background, var(--jp-layout-color0, white)));\n",
       "  --sklearn-color-border-box: var(--sg-text-color, var(--theme-code-foreground, var(--jp-content-font-color1, black)));\n",
       "  --sklearn-color-icon: #696969;\n",
       "\n",
       "  @media (prefers-color-scheme: dark) {\n",
       "    /* Redefinition of color scheme for dark theme */\n",
       "    --sklearn-color-text-on-default-background: var(--sg-text-color, var(--theme-code-foreground, var(--jp-content-font-color1, white)));\n",
       "    --sklearn-color-background: var(--sg-background-color, var(--theme-background, var(--jp-layout-color0, #111)));\n",
       "    --sklearn-color-border-box: var(--sg-text-color, var(--theme-code-foreground, var(--jp-content-font-color1, white)));\n",
       "    --sklearn-color-icon: #878787;\n",
       "  }\n",
       "}\n",
       "\n",
       "#sk-container-id-1 {\n",
       "  color: var(--sklearn-color-text);\n",
       "}\n",
       "\n",
       "#sk-container-id-1 pre {\n",
       "  padding: 0;\n",
       "}\n",
       "\n",
       "#sk-container-id-1 input.sk-hidden--visually {\n",
       "  border: 0;\n",
       "  clip: rect(1px 1px 1px 1px);\n",
       "  clip: rect(1px, 1px, 1px, 1px);\n",
       "  height: 1px;\n",
       "  margin: -1px;\n",
       "  overflow: hidden;\n",
       "  padding: 0;\n",
       "  position: absolute;\n",
       "  width: 1px;\n",
       "}\n",
       "\n",
       "#sk-container-id-1 div.sk-dashed-wrapped {\n",
       "  border: 1px dashed var(--sklearn-color-line);\n",
       "  margin: 0 0.4em 0.5em 0.4em;\n",
       "  box-sizing: border-box;\n",
       "  padding-bottom: 0.4em;\n",
       "  background-color: var(--sklearn-color-background);\n",
       "}\n",
       "\n",
       "#sk-container-id-1 div.sk-container {\n",
       "  /* jupyter's `normalize.less` sets `[hidden] { display: none; }`\n",
       "     but bootstrap.min.css set `[hidden] { display: none !important; }`\n",
       "     so we also need the `!important` here to be able to override the\n",
       "     default hidden behavior on the sphinx rendered scikit-learn.org.\n",
       "     See: https://github.com/scikit-learn/scikit-learn/issues/21755 */\n",
       "  display: inline-block !important;\n",
       "  position: relative;\n",
       "}\n",
       "\n",
       "#sk-container-id-1 div.sk-text-repr-fallback {\n",
       "  display: none;\n",
       "}\n",
       "\n",
       "div.sk-parallel-item,\n",
       "div.sk-serial,\n",
       "div.sk-item {\n",
       "  /* draw centered vertical line to link estimators */\n",
       "  background-image: linear-gradient(var(--sklearn-color-text-on-default-background), var(--sklearn-color-text-on-default-background));\n",
       "  background-size: 2px 100%;\n",
       "  background-repeat: no-repeat;\n",
       "  background-position: center center;\n",
       "}\n",
       "\n",
       "/* Parallel-specific style estimator block */\n",
       "\n",
       "#sk-container-id-1 div.sk-parallel-item::after {\n",
       "  content: \"\";\n",
       "  width: 100%;\n",
       "  border-bottom: 2px solid var(--sklearn-color-text-on-default-background);\n",
       "  flex-grow: 1;\n",
       "}\n",
       "\n",
       "#sk-container-id-1 div.sk-parallel {\n",
       "  display: flex;\n",
       "  align-items: stretch;\n",
       "  justify-content: center;\n",
       "  background-color: var(--sklearn-color-background);\n",
       "  position: relative;\n",
       "}\n",
       "\n",
       "#sk-container-id-1 div.sk-parallel-item {\n",
       "  display: flex;\n",
       "  flex-direction: column;\n",
       "}\n",
       "\n",
       "#sk-container-id-1 div.sk-parallel-item:first-child::after {\n",
       "  align-self: flex-end;\n",
       "  width: 50%;\n",
       "}\n",
       "\n",
       "#sk-container-id-1 div.sk-parallel-item:last-child::after {\n",
       "  align-self: flex-start;\n",
       "  width: 50%;\n",
       "}\n",
       "\n",
       "#sk-container-id-1 div.sk-parallel-item:only-child::after {\n",
       "  width: 0;\n",
       "}\n",
       "\n",
       "/* Serial-specific style estimator block */\n",
       "\n",
       "#sk-container-id-1 div.sk-serial {\n",
       "  display: flex;\n",
       "  flex-direction: column;\n",
       "  align-items: center;\n",
       "  background-color: var(--sklearn-color-background);\n",
       "  padding-right: 1em;\n",
       "  padding-left: 1em;\n",
       "}\n",
       "\n",
       "\n",
       "/* Toggleable style: style used for estimator/Pipeline/ColumnTransformer box that is\n",
       "clickable and can be expanded/collapsed.\n",
       "- Pipeline and ColumnTransformer use this feature and define the default style\n",
       "- Estimators will overwrite some part of the style using the `sk-estimator` class\n",
       "*/\n",
       "\n",
       "/* Pipeline and ColumnTransformer style (default) */\n",
       "\n",
       "#sk-container-id-1 div.sk-toggleable {\n",
       "  /* Default theme specific background. It is overwritten whether we have a\n",
       "  specific estimator or a Pipeline/ColumnTransformer */\n",
       "  background-color: var(--sklearn-color-background);\n",
       "}\n",
       "\n",
       "/* Toggleable label */\n",
       "#sk-container-id-1 label.sk-toggleable__label {\n",
       "  cursor: pointer;\n",
       "  display: block;\n",
       "  width: 100%;\n",
       "  margin-bottom: 0;\n",
       "  padding: 0.5em;\n",
       "  box-sizing: border-box;\n",
       "  text-align: center;\n",
       "}\n",
       "\n",
       "#sk-container-id-1 label.sk-toggleable__label-arrow:before {\n",
       "  /* Arrow on the left of the label */\n",
       "  content: \"▸\";\n",
       "  float: left;\n",
       "  margin-right: 0.25em;\n",
       "  color: var(--sklearn-color-icon);\n",
       "}\n",
       "\n",
       "#sk-container-id-1 label.sk-toggleable__label-arrow:hover:before {\n",
       "  color: var(--sklearn-color-text);\n",
       "}\n",
       "\n",
       "/* Toggleable content - dropdown */\n",
       "\n",
       "#sk-container-id-1 div.sk-toggleable__content {\n",
       "  max-height: 0;\n",
       "  max-width: 0;\n",
       "  overflow: hidden;\n",
       "  text-align: left;\n",
       "  /* unfitted */\n",
       "  background-color: var(--sklearn-color-unfitted-level-0);\n",
       "}\n",
       "\n",
       "#sk-container-id-1 div.sk-toggleable__content.fitted {\n",
       "  /* fitted */\n",
       "  background-color: var(--sklearn-color-fitted-level-0);\n",
       "}\n",
       "\n",
       "#sk-container-id-1 div.sk-toggleable__content pre {\n",
       "  margin: 0.2em;\n",
       "  border-radius: 0.25em;\n",
       "  color: var(--sklearn-color-text);\n",
       "  /* unfitted */\n",
       "  background-color: var(--sklearn-color-unfitted-level-0);\n",
       "}\n",
       "\n",
       "#sk-container-id-1 div.sk-toggleable__content.fitted pre {\n",
       "  /* unfitted */\n",
       "  background-color: var(--sklearn-color-fitted-level-0);\n",
       "}\n",
       "\n",
       "#sk-container-id-1 input.sk-toggleable__control:checked~div.sk-toggleable__content {\n",
       "  /* Expand drop-down */\n",
       "  max-height: 200px;\n",
       "  max-width: 100%;\n",
       "  overflow: auto;\n",
       "}\n",
       "\n",
       "#sk-container-id-1 input.sk-toggleable__control:checked~label.sk-toggleable__label-arrow:before {\n",
       "  content: \"▾\";\n",
       "}\n",
       "\n",
       "/* Pipeline/ColumnTransformer-specific style */\n",
       "\n",
       "#sk-container-id-1 div.sk-label input.sk-toggleable__control:checked~label.sk-toggleable__label {\n",
       "  color: var(--sklearn-color-text);\n",
       "  background-color: var(--sklearn-color-unfitted-level-2);\n",
       "}\n",
       "\n",
       "#sk-container-id-1 div.sk-label.fitted input.sk-toggleable__control:checked~label.sk-toggleable__label {\n",
       "  background-color: var(--sklearn-color-fitted-level-2);\n",
       "}\n",
       "\n",
       "/* Estimator-specific style */\n",
       "\n",
       "/* Colorize estimator box */\n",
       "#sk-container-id-1 div.sk-estimator input.sk-toggleable__control:checked~label.sk-toggleable__label {\n",
       "  /* unfitted */\n",
       "  background-color: var(--sklearn-color-unfitted-level-2);\n",
       "}\n",
       "\n",
       "#sk-container-id-1 div.sk-estimator.fitted input.sk-toggleable__control:checked~label.sk-toggleable__label {\n",
       "  /* fitted */\n",
       "  background-color: var(--sklearn-color-fitted-level-2);\n",
       "}\n",
       "\n",
       "#sk-container-id-1 div.sk-label label.sk-toggleable__label,\n",
       "#sk-container-id-1 div.sk-label label {\n",
       "  /* The background is the default theme color */\n",
       "  color: var(--sklearn-color-text-on-default-background);\n",
       "}\n",
       "\n",
       "/* On hover, darken the color of the background */\n",
       "#sk-container-id-1 div.sk-label:hover label.sk-toggleable__label {\n",
       "  color: var(--sklearn-color-text);\n",
       "  background-color: var(--sklearn-color-unfitted-level-2);\n",
       "}\n",
       "\n",
       "/* Label box, darken color on hover, fitted */\n",
       "#sk-container-id-1 div.sk-label.fitted:hover label.sk-toggleable__label.fitted {\n",
       "  color: var(--sklearn-color-text);\n",
       "  background-color: var(--sklearn-color-fitted-level-2);\n",
       "}\n",
       "\n",
       "/* Estimator label */\n",
       "\n",
       "#sk-container-id-1 div.sk-label label {\n",
       "  font-family: monospace;\n",
       "  font-weight: bold;\n",
       "  display: inline-block;\n",
       "  line-height: 1.2em;\n",
       "}\n",
       "\n",
       "#sk-container-id-1 div.sk-label-container {\n",
       "  text-align: center;\n",
       "}\n",
       "\n",
       "/* Estimator-specific */\n",
       "#sk-container-id-1 div.sk-estimator {\n",
       "  font-family: monospace;\n",
       "  border: 1px dotted var(--sklearn-color-border-box);\n",
       "  border-radius: 0.25em;\n",
       "  box-sizing: border-box;\n",
       "  margin-bottom: 0.5em;\n",
       "  /* unfitted */\n",
       "  background-color: var(--sklearn-color-unfitted-level-0);\n",
       "}\n",
       "\n",
       "#sk-container-id-1 div.sk-estimator.fitted {\n",
       "  /* fitted */\n",
       "  background-color: var(--sklearn-color-fitted-level-0);\n",
       "}\n",
       "\n",
       "/* on hover */\n",
       "#sk-container-id-1 div.sk-estimator:hover {\n",
       "  /* unfitted */\n",
       "  background-color: var(--sklearn-color-unfitted-level-2);\n",
       "}\n",
       "\n",
       "#sk-container-id-1 div.sk-estimator.fitted:hover {\n",
       "  /* fitted */\n",
       "  background-color: var(--sklearn-color-fitted-level-2);\n",
       "}\n",
       "\n",
       "/* Specification for estimator info (e.g. \"i\" and \"?\") */\n",
       "\n",
       "/* Common style for \"i\" and \"?\" */\n",
       "\n",
       ".sk-estimator-doc-link,\n",
       "a:link.sk-estimator-doc-link,\n",
       "a:visited.sk-estimator-doc-link {\n",
       "  float: right;\n",
       "  font-size: smaller;\n",
       "  line-height: 1em;\n",
       "  font-family: monospace;\n",
       "  background-color: var(--sklearn-color-background);\n",
       "  border-radius: 1em;\n",
       "  height: 1em;\n",
       "  width: 1em;\n",
       "  text-decoration: none !important;\n",
       "  margin-left: 1ex;\n",
       "  /* unfitted */\n",
       "  border: var(--sklearn-color-unfitted-level-1) 1pt solid;\n",
       "  color: var(--sklearn-color-unfitted-level-1);\n",
       "}\n",
       "\n",
       ".sk-estimator-doc-link.fitted,\n",
       "a:link.sk-estimator-doc-link.fitted,\n",
       "a:visited.sk-estimator-doc-link.fitted {\n",
       "  /* fitted */\n",
       "  border: var(--sklearn-color-fitted-level-1) 1pt solid;\n",
       "  color: var(--sklearn-color-fitted-level-1);\n",
       "}\n",
       "\n",
       "/* On hover */\n",
       "div.sk-estimator:hover .sk-estimator-doc-link:hover,\n",
       ".sk-estimator-doc-link:hover,\n",
       "div.sk-label-container:hover .sk-estimator-doc-link:hover,\n",
       ".sk-estimator-doc-link:hover {\n",
       "  /* unfitted */\n",
       "  background-color: var(--sklearn-color-unfitted-level-3);\n",
       "  color: var(--sklearn-color-background);\n",
       "  text-decoration: none;\n",
       "}\n",
       "\n",
       "div.sk-estimator.fitted:hover .sk-estimator-doc-link.fitted:hover,\n",
       ".sk-estimator-doc-link.fitted:hover,\n",
       "div.sk-label-container:hover .sk-estimator-doc-link.fitted:hover,\n",
       ".sk-estimator-doc-link.fitted:hover {\n",
       "  /* fitted */\n",
       "  background-color: var(--sklearn-color-fitted-level-3);\n",
       "  color: var(--sklearn-color-background);\n",
       "  text-decoration: none;\n",
       "}\n",
       "\n",
       "/* Span, style for the box shown on hovering the info icon */\n",
       ".sk-estimator-doc-link span {\n",
       "  display: none;\n",
       "  z-index: 9999;\n",
       "  position: relative;\n",
       "  font-weight: normal;\n",
       "  right: .2ex;\n",
       "  padding: .5ex;\n",
       "  margin: .5ex;\n",
       "  width: min-content;\n",
       "  min-width: 20ex;\n",
       "  max-width: 50ex;\n",
       "  color: var(--sklearn-color-text);\n",
       "  box-shadow: 2pt 2pt 4pt #999;\n",
       "  /* unfitted */\n",
       "  background: var(--sklearn-color-unfitted-level-0);\n",
       "  border: .5pt solid var(--sklearn-color-unfitted-level-3);\n",
       "}\n",
       "\n",
       ".sk-estimator-doc-link.fitted span {\n",
       "  /* fitted */\n",
       "  background: var(--sklearn-color-fitted-level-0);\n",
       "  border: var(--sklearn-color-fitted-level-3);\n",
       "}\n",
       "\n",
       ".sk-estimator-doc-link:hover span {\n",
       "  display: block;\n",
       "}\n",
       "\n",
       "/* \"?\"-specific style due to the `<a>` HTML tag */\n",
       "\n",
       "#sk-container-id-1 a.estimator_doc_link {\n",
       "  float: right;\n",
       "  font-size: 1rem;\n",
       "  line-height: 1em;\n",
       "  font-family: monospace;\n",
       "  background-color: var(--sklearn-color-background);\n",
       "  border-radius: 1rem;\n",
       "  height: 1rem;\n",
       "  width: 1rem;\n",
       "  text-decoration: none;\n",
       "  /* unfitted */\n",
       "  color: var(--sklearn-color-unfitted-level-1);\n",
       "  border: var(--sklearn-color-unfitted-level-1) 1pt solid;\n",
       "}\n",
       "\n",
       "#sk-container-id-1 a.estimator_doc_link.fitted {\n",
       "  /* fitted */\n",
       "  border: var(--sklearn-color-fitted-level-1) 1pt solid;\n",
       "  color: var(--sklearn-color-fitted-level-1);\n",
       "}\n",
       "\n",
       "/* On hover */\n",
       "#sk-container-id-1 a.estimator_doc_link:hover {\n",
       "  /* unfitted */\n",
       "  background-color: var(--sklearn-color-unfitted-level-3);\n",
       "  color: var(--sklearn-color-background);\n",
       "  text-decoration: none;\n",
       "}\n",
       "\n",
       "#sk-container-id-1 a.estimator_doc_link.fitted:hover {\n",
       "  /* fitted */\n",
       "  background-color: var(--sklearn-color-fitted-level-3);\n",
       "}\n",
       "</style><div id=\"sk-container-id-1\" class=\"sk-top-container\"><div class=\"sk-text-repr-fallback\"><pre>Pipeline(steps=[(&#x27;preprocessor&#x27;,\n",
       "                 ColumnTransformer(transformers=[(&#x27;num&#x27;,\n",
       "                                                  Pipeline(steps=[(&#x27;scalar&#x27;,\n",
       "                                                                   StandardScaler())]),\n",
       "                                                  [&#x27;DayOfWeek&#x27;, &#x27;Customers&#x27;,\n",
       "                                                   &#x27;Open&#x27;, &#x27;Promo&#x27;,\n",
       "                                                   &#x27;SchoolHoliday&#x27;,\n",
       "                                                   &#x27;CompetitionDistance&#x27;,\n",
       "                                                   &#x27;Promo2SinceYear&#x27;,\n",
       "                                                   &#x27;Promo2SinceWeek&#x27;,\n",
       "                                                   &#x27;CompetitionOpenSinceMonth&#x27;,\n",
       "                                                   &#x27;CompetitionOpenSinceYear&#x27;,\n",
       "                                                   &#x27;Year&#x27;, &#x27;Month&#x27;,\n",
       "                                                   &#x27;DayOfMonth&#x27;, &#x27;WeekOfYear&#x27;,\n",
       "                                                   &#x27;IsMonthStart&#x27;,\n",
       "                                                   &#x27;IsMonthEnd&#x27;]),\n",
       "                                                 (&#x27;cat&#x27;,\n",
       "                                                  Pipeline(steps=[(&#x27;onehot&#x27;,\n",
       "                                                                   OneHotEncoder(drop=&#x27;first&#x27;,\n",
       "                                                                                 handle_unknown=&#x27;ignore&#x27;))]),\n",
       "                                                  [&#x27;StoreType_a&#x27;, &#x27;StoreType_b&#x27;,\n",
       "                                                   &#x27;StoreType_c&#x27;, &#x27;StoreType_d&#x27;,\n",
       "                                                   &#x27;Assortment_a&#x27;,\n",
       "                                                   &#x27;Assortment_b&#x27;,\n",
       "                                                   &#x27;Assortment_c&#x27;,\n",
       "                                                   &#x27;StateHoliday_0&#x27;,\n",
       "                                                   &#x27;StateHoliday_a&#x27;])])),\n",
       "                (&#x27;regressor&#x27;, RandomForestRegressor())])</pre><b>In a Jupyter environment, please rerun this cell to show the HTML representation or trust the notebook. <br />On GitHub, the HTML representation is unable to render, please try loading this page with nbviewer.org.</b></div><div class=\"sk-container\" hidden><div class=\"sk-item sk-dashed-wrapped\"><div class=\"sk-label-container\"><div class=\"sk-label fitted sk-toggleable\"><input class=\"sk-toggleable__control sk-hidden--visually\" id=\"sk-estimator-id-1\" type=\"checkbox\" ><label for=\"sk-estimator-id-1\" class=\"sk-toggleable__label fitted sk-toggleable__label-arrow fitted\">&nbsp;&nbsp;Pipeline<a class=\"sk-estimator-doc-link fitted\" rel=\"noreferrer\" target=\"_blank\" href=\"https://scikit-learn.org/1.5/modules/generated/sklearn.pipeline.Pipeline.html\">?<span>Documentation for Pipeline</span></a><span class=\"sk-estimator-doc-link fitted\">i<span>Fitted</span></span></label><div class=\"sk-toggleable__content fitted\"><pre>Pipeline(steps=[(&#x27;preprocessor&#x27;,\n",
       "                 ColumnTransformer(transformers=[(&#x27;num&#x27;,\n",
       "                                                  Pipeline(steps=[(&#x27;scalar&#x27;,\n",
       "                                                                   StandardScaler())]),\n",
       "                                                  [&#x27;DayOfWeek&#x27;, &#x27;Customers&#x27;,\n",
       "                                                   &#x27;Open&#x27;, &#x27;Promo&#x27;,\n",
       "                                                   &#x27;SchoolHoliday&#x27;,\n",
       "                                                   &#x27;CompetitionDistance&#x27;,\n",
       "                                                   &#x27;Promo2SinceYear&#x27;,\n",
       "                                                   &#x27;Promo2SinceWeek&#x27;,\n",
       "                                                   &#x27;CompetitionOpenSinceMonth&#x27;,\n",
       "                                                   &#x27;CompetitionOpenSinceYear&#x27;,\n",
       "                                                   &#x27;Year&#x27;, &#x27;Month&#x27;,\n",
       "                                                   &#x27;DayOfMonth&#x27;, &#x27;WeekOfYear&#x27;,\n",
       "                                                   &#x27;IsMonthStart&#x27;,\n",
       "                                                   &#x27;IsMonthEnd&#x27;]),\n",
       "                                                 (&#x27;cat&#x27;,\n",
       "                                                  Pipeline(steps=[(&#x27;onehot&#x27;,\n",
       "                                                                   OneHotEncoder(drop=&#x27;first&#x27;,\n",
       "                                                                                 handle_unknown=&#x27;ignore&#x27;))]),\n",
       "                                                  [&#x27;StoreType_a&#x27;, &#x27;StoreType_b&#x27;,\n",
       "                                                   &#x27;StoreType_c&#x27;, &#x27;StoreType_d&#x27;,\n",
       "                                                   &#x27;Assortment_a&#x27;,\n",
       "                                                   &#x27;Assortment_b&#x27;,\n",
       "                                                   &#x27;Assortment_c&#x27;,\n",
       "                                                   &#x27;StateHoliday_0&#x27;,\n",
       "                                                   &#x27;StateHoliday_a&#x27;])])),\n",
       "                (&#x27;regressor&#x27;, RandomForestRegressor())])</pre></div> </div></div><div class=\"sk-serial\"><div class=\"sk-item sk-dashed-wrapped\"><div class=\"sk-label-container\"><div class=\"sk-label fitted sk-toggleable\"><input class=\"sk-toggleable__control sk-hidden--visually\" id=\"sk-estimator-id-2\" type=\"checkbox\" ><label for=\"sk-estimator-id-2\" class=\"sk-toggleable__label fitted sk-toggleable__label-arrow fitted\">&nbsp;preprocessor: ColumnTransformer<a class=\"sk-estimator-doc-link fitted\" rel=\"noreferrer\" target=\"_blank\" href=\"https://scikit-learn.org/1.5/modules/generated/sklearn.compose.ColumnTransformer.html\">?<span>Documentation for preprocessor: ColumnTransformer</span></a></label><div class=\"sk-toggleable__content fitted\"><pre>ColumnTransformer(transformers=[(&#x27;num&#x27;,\n",
       "                                 Pipeline(steps=[(&#x27;scalar&#x27;, StandardScaler())]),\n",
       "                                 [&#x27;DayOfWeek&#x27;, &#x27;Customers&#x27;, &#x27;Open&#x27;, &#x27;Promo&#x27;,\n",
       "                                  &#x27;SchoolHoliday&#x27;, &#x27;CompetitionDistance&#x27;,\n",
       "                                  &#x27;Promo2SinceYear&#x27;, &#x27;Promo2SinceWeek&#x27;,\n",
       "                                  &#x27;CompetitionOpenSinceMonth&#x27;,\n",
       "                                  &#x27;CompetitionOpenSinceYear&#x27;, &#x27;Year&#x27;, &#x27;Month&#x27;,\n",
       "                                  &#x27;DayOfMonth&#x27;, &#x27;WeekOfYear&#x27;, &#x27;IsMonthStart&#x27;,\n",
       "                                  &#x27;IsMonthEnd&#x27;]),\n",
       "                                (&#x27;cat&#x27;,\n",
       "                                 Pipeline(steps=[(&#x27;onehot&#x27;,\n",
       "                                                  OneHotEncoder(drop=&#x27;first&#x27;,\n",
       "                                                                handle_unknown=&#x27;ignore&#x27;))]),\n",
       "                                 [&#x27;StoreType_a&#x27;, &#x27;StoreType_b&#x27;, &#x27;StoreType_c&#x27;,\n",
       "                                  &#x27;StoreType_d&#x27;, &#x27;Assortment_a&#x27;, &#x27;Assortment_b&#x27;,\n",
       "                                  &#x27;Assortment_c&#x27;, &#x27;StateHoliday_0&#x27;,\n",
       "                                  &#x27;StateHoliday_a&#x27;])])</pre></div> </div></div><div class=\"sk-parallel\"><div class=\"sk-parallel-item\"><div class=\"sk-item\"><div class=\"sk-label-container\"><div class=\"sk-label fitted sk-toggleable\"><input class=\"sk-toggleable__control sk-hidden--visually\" id=\"sk-estimator-id-3\" type=\"checkbox\" ><label for=\"sk-estimator-id-3\" class=\"sk-toggleable__label fitted sk-toggleable__label-arrow fitted\">num</label><div class=\"sk-toggleable__content fitted\"><pre>[&#x27;DayOfWeek&#x27;, &#x27;Customers&#x27;, &#x27;Open&#x27;, &#x27;Promo&#x27;, &#x27;SchoolHoliday&#x27;, &#x27;CompetitionDistance&#x27;, &#x27;Promo2SinceYear&#x27;, &#x27;Promo2SinceWeek&#x27;, &#x27;CompetitionOpenSinceMonth&#x27;, &#x27;CompetitionOpenSinceYear&#x27;, &#x27;Year&#x27;, &#x27;Month&#x27;, &#x27;DayOfMonth&#x27;, &#x27;WeekOfYear&#x27;, &#x27;IsMonthStart&#x27;, &#x27;IsMonthEnd&#x27;]</pre></div> </div></div><div class=\"sk-serial\"><div class=\"sk-item\"><div class=\"sk-serial\"><div class=\"sk-item\"><div class=\"sk-estimator fitted sk-toggleable\"><input class=\"sk-toggleable__control sk-hidden--visually\" id=\"sk-estimator-id-4\" type=\"checkbox\" ><label for=\"sk-estimator-id-4\" class=\"sk-toggleable__label fitted sk-toggleable__label-arrow fitted\">&nbsp;StandardScaler<a class=\"sk-estimator-doc-link fitted\" rel=\"noreferrer\" target=\"_blank\" href=\"https://scikit-learn.org/1.5/modules/generated/sklearn.preprocessing.StandardScaler.html\">?<span>Documentation for StandardScaler</span></a></label><div class=\"sk-toggleable__content fitted\"><pre>StandardScaler()</pre></div> </div></div></div></div></div></div></div><div class=\"sk-parallel-item\"><div class=\"sk-item\"><div class=\"sk-label-container\"><div class=\"sk-label fitted sk-toggleable\"><input class=\"sk-toggleable__control sk-hidden--visually\" id=\"sk-estimator-id-5\" type=\"checkbox\" ><label for=\"sk-estimator-id-5\" class=\"sk-toggleable__label fitted sk-toggleable__label-arrow fitted\">cat</label><div class=\"sk-toggleable__content fitted\"><pre>[&#x27;StoreType_a&#x27;, &#x27;StoreType_b&#x27;, &#x27;StoreType_c&#x27;, &#x27;StoreType_d&#x27;, &#x27;Assortment_a&#x27;, &#x27;Assortment_b&#x27;, &#x27;Assortment_c&#x27;, &#x27;StateHoliday_0&#x27;, &#x27;StateHoliday_a&#x27;]</pre></div> </div></div><div class=\"sk-serial\"><div class=\"sk-item\"><div class=\"sk-serial\"><div class=\"sk-item\"><div class=\"sk-estimator fitted sk-toggleable\"><input class=\"sk-toggleable__control sk-hidden--visually\" id=\"sk-estimator-id-6\" type=\"checkbox\" ><label for=\"sk-estimator-id-6\" class=\"sk-toggleable__label fitted sk-toggleable__label-arrow fitted\">&nbsp;OneHotEncoder<a class=\"sk-estimator-doc-link fitted\" rel=\"noreferrer\" target=\"_blank\" href=\"https://scikit-learn.org/1.5/modules/generated/sklearn.preprocessing.OneHotEncoder.html\">?<span>Documentation for OneHotEncoder</span></a></label><div class=\"sk-toggleable__content fitted\"><pre>OneHotEncoder(drop=&#x27;first&#x27;, handle_unknown=&#x27;ignore&#x27;)</pre></div> </div></div></div></div></div></div></div></div></div><div class=\"sk-item\"><div class=\"sk-estimator fitted sk-toggleable\"><input class=\"sk-toggleable__control sk-hidden--visually\" id=\"sk-estimator-id-7\" type=\"checkbox\" ><label for=\"sk-estimator-id-7\" class=\"sk-toggleable__label fitted sk-toggleable__label-arrow fitted\">&nbsp;RandomForestRegressor<a class=\"sk-estimator-doc-link fitted\" rel=\"noreferrer\" target=\"_blank\" href=\"https://scikit-learn.org/1.5/modules/generated/sklearn.ensemble.RandomForestRegressor.html\">?<span>Documentation for RandomForestRegressor</span></a></label><div class=\"sk-toggleable__content fitted\"><pre>RandomForestRegressor()</pre></div> </div></div></div></div></div></div>"
      ],
      "text/plain": [
       "Pipeline(steps=[('preprocessor',\n",
       "                 ColumnTransformer(transformers=[('num',\n",
       "                                                  Pipeline(steps=[('scalar',\n",
       "                                                                   StandardScaler())]),\n",
       "                                                  ['DayOfWeek', 'Customers',\n",
       "                                                   'Open', 'Promo',\n",
       "                                                   'SchoolHoliday',\n",
       "                                                   'CompetitionDistance',\n",
       "                                                   'Promo2SinceYear',\n",
       "                                                   'Promo2SinceWeek',\n",
       "                                                   'CompetitionOpenSinceMonth',\n",
       "                                                   'CompetitionOpenSinceYear',\n",
       "                                                   'Year', 'Month',\n",
       "                                                   'DayOfMonth', 'WeekOfYear',\n",
       "                                                   'IsMonthStart',\n",
       "                                                   'IsMonthEnd']),\n",
       "                                                 ('cat',\n",
       "                                                  Pipeline(steps=[('onehot',\n",
       "                                                                   OneHotEncoder(drop='first',\n",
       "                                                                                 handle_unknown='ignore'))]),\n",
       "                                                  ['StoreType_a', 'StoreType_b',\n",
       "                                                   'StoreType_c', 'StoreType_d',\n",
       "                                                   'Assortment_a',\n",
       "                                                   'Assortment_b',\n",
       "                                                   'Assortment_c',\n",
       "                                                   'StateHoliday_0',\n",
       "                                                   'StateHoliday_a'])])),\n",
       "                ('regressor', RandomForestRegressor())])"
      ]
     },
     "execution_count": 18,
     "metadata": {},
     "output_type": "execute_result"
    }
   ],
   "source": [
    "logging.info('Fitting the model')\n",
    "regression_pipeline.fit(X_train, y_train)"
   ]
  },
  {
   "cell_type": "code",
   "execution_count": 19,
   "metadata": {},
   "outputs": [],
   "source": [
    "logging.info('Making predictions')\n",
    "y_pred = regression_pipeline.predict(X_test)\n",
    "\n"
   ]
  },
  {
   "cell_type": "code",
   "execution_count": 20,
   "metadata": {},
   "outputs": [
    {
     "name": "stdout",
     "output_type": "stream",
     "text": [
      "[   0.   8677.82 7520.79 ...    0.      0.   4703.45]\n"
     ]
    }
   ],
   "source": [
    "print(y_pred)"
   ]
  },
  {
   "cell_type": "code",
   "execution_count": 21,
   "metadata": {},
   "outputs": [
    {
     "name": "stdout",
     "output_type": "stream",
     "text": [
      "       Actual_Sales  Predicted_Sales\n",
      "75721             0             0.00\n",
      "80184          7952          8677.82\n",
      "19864          6987          7520.79\n",
      "76699             0             0.00\n",
      "92991          5140          5192.77\n",
      "76434             0             0.00\n",
      "84004             0             0.00\n",
      "80917          6349          6054.14\n",
      "60767             0             0.00\n",
      "50074          6078          6279.36\n"
     ]
    }
   ],
   "source": [
    "results = pd.DataFrame({\n",
    "    'Actual_Sales': y_test,  # Replace with your actual sales target\n",
    "    'Predicted_Sales': y_pred\n",
    "})\n",
    "print(results.head(10))  # Display a few rows of actual vs. predicted\n"
   ]
  },
  {
   "cell_type": "code",
   "execution_count": 22,
   "metadata": {},
   "outputs": [
    {
     "data": {
      "image/png": "[encoded data removed]",
      "text/plain": [
       "<Figure size 1000x600 with 1 Axes>"
      ]
     },
     "metadata": {},
     "output_type": "display_data"
    }
   ],
   "source": [
    "import matplotlib.pyplot as plt\n",
    "\n",
    "plt.figure(figsize=(10, 6))\n",
    "plt.scatter(range(len(y_test)), y_test, color='blue', label='Actual Sales')\n",
    "plt.scatter(range(len(y_pred)), y_pred, color='red', label='Predicted Sales')\n",
    "plt.xlabel('Data Points')\n",
    "plt.ylabel('Sales')\n",
    "plt.legend()\n",
    "plt.show()\n"
   ]
  },
  {
   "cell_type": "code",
   "execution_count": 23,
   "metadata": {},
   "outputs": [
    {
     "name": "stdout",
     "output_type": "stream",
     "text": [
      "Root Mean Squared Error: 578.9232211710665\n"
     ]
    }
   ],
   "source": [
    "logging.info('Calculating RMSE')\n",
    "rmse = np.sqrt(mean_squared_error(y_test, y_pred))\n",
    "print(f\"Root Mean Squared Error: {rmse}\")"
   ]
  },
  {
   "cell_type": "code",
   "execution_count": 24,
   "metadata": {},
   "outputs": [
    {
     "name": "stdout",
     "output_type": "stream",
     "text": [
      "{'preprocessor': ColumnTransformer(transformers=[('num',\n",
      "                                 Pipeline(steps=[('scalar', StandardScaler())]),\n",
      "                                 ['DayOfWeek', 'Customers', 'Open', 'Promo',\n",
      "                                  'SchoolHoliday', 'CompetitionDistance',\n",
      "                                  'Promo2SinceYear', 'Promo2SinceWeek',\n",
      "                                  'CompetitionOpenSinceMonth',\n",
      "                                  'CompetitionOpenSinceYear', 'Year', 'Month',\n",
      "                                  'DayOfMonth', 'WeekOfYear', 'IsMonthStart',\n",
      "                                  'IsMonthEnd']),\n",
      "                                ('cat',\n",
      "                                 Pipeline(steps=[('onehot',\n",
      "                                                  OneHotEncoder(drop='first',\n",
      "                                                                handle_unknown='ignore'))]),\n",
      "                                 ['StoreType_a', 'StoreType_b', 'StoreType_c',\n",
      "                                  'StoreType_d', 'Assortment_a', 'Assortment_b',\n",
      "                                  'Assortment_c', 'StateHoliday_0',\n",
      "                                  'StateHoliday_a'])]), 'regressor': RandomForestRegressor()}\n"
     ]
    }
   ],
   "source": [
    "print(regression_pipeline.named_steps)"
   ]
  },
  {
   "cell_type": "code",
   "execution_count": 25,
   "metadata": {},
   "outputs": [
    {
     "name": "stdout",
     "output_type": "stream",
     "text": [
      "Number of transformed features: 25\n",
      "Number of feature importances: 25\n",
      "                           feature  importance\n",
      "1                   num__Customers    0.857397\n",
      "5         num__CompetitionDistance    0.030532\n",
      "19           cat__StoreType_d_True    0.026022\n",
      "3                       num__Promo    0.020806\n",
      "21          cat__Assortment_b_True    0.009957\n",
      "7             num__Promo2SinceWeek    0.009216\n",
      "8   num__CompetitionOpenSinceMonth    0.008387\n",
      "9    num__CompetitionOpenSinceYear    0.007751\n",
      "0                   num__DayOfWeek    0.007182\n",
      "6             num__Promo2SinceYear    0.005324\n"
     ]
    }
   ],
   "source": [
    "# Accessing the RandomForestRegressor from the pipeline\n",
    "rf_model = regression_pipeline.named_steps['regressor']\n",
    "\n",
    "# If you're using a ColumnTransformer for preprocessing, access it first\n",
    "preprocessor = regression_pipeline.named_steps['preprocessor']  # Replace 'preprocessor' with the actual name\n",
    "\n",
    "# Get the transformed feature names\n",
    "feature_names = preprocessor.get_feature_names_out()\n",
    "\n",
    "# Extracting feature importances\n",
    "importance = rf_model.feature_importances_\n",
    "\n",
    "# Ensure the lengths match\n",
    "print(f'Number of transformed features: {len(feature_names)}')\n",
    "print(f'Number of feature importances: {len(importance)}')\n",
    "\n",
    "# Creating a DataFrame for better readability\n",
    "feature_importance_df = pd.DataFrame({\n",
    "    'feature': feature_names,  # Transformed feature names\n",
    "    'importance': importance\n",
    "})\n",
    "\n",
    "# Sorting the features by their importance in descending order\n",
    "feature_importance_df = feature_importance_df.sort_values(by='importance', ascending=False)\n",
    "\n",
    "# Display the top features\n",
    "print(feature_importance_df.head(10))  # Adjust the number of top features to display\n"
   ]
  },
  {
   "cell_type": "code",
   "execution_count": 26,
   "metadata": {},
   "outputs": [
    {
     "name": "stderr",
     "output_type": "stream",
     "text": [
      "/tmp/ipykernel_15627/4208987519.py:4: FutureWarning: \n",
      "\n",
      "Passing `palette` without assigning `hue` is deprecated and will be removed in v0.14.0. Assign the `y` variable to `hue` and set `legend=False` for the same effect.\n",
      "\n",
      "  sns.barplot(x='importance', y='feature', data=feature_importance_df.head(top_n), palette='viridis')\n"
     ]
    },
    {
     "data": {
      "image/png": "[encoded data removed]",
      "text/plain": [
       "<Figure size 1000x600 with 1 Axes>"
      ]
     },
     "metadata": {},
     "output_type": "display_data"
    }
   ],
   "source": [
    "logging.info('show the feature importance with a plot')\n",
    "top_n = 10  # You can adjust the number of features to display\n",
    "plt.figure(figsize=(10, 6))\n",
    "sns.barplot(x='importance', y='feature', data=feature_importance_df.head(top_n), palette='viridis')\n",
    "\n",
    "# Adding labels and title\n",
    "plt.title(f'Top {top_n} Important Features')\n",
    "plt.xlabel('Feature Importance')\n",
    "plt.ylabel('Feature Names')\n",
    "\n",
    "# Show the plot\n",
    "plt.show()"
   ]
  },
  {
   "cell_type": "code",
   "execution_count": 27,
   "metadata": {},
   "outputs": [],
   "source": [
    "from sklearn.utils import resample\n",
    "import numpy as np\n",
    "\n",
    "def bootstrap_predictions(model, X_test, n_iterations=100):\n",
    "    preds = []\n",
    "    for i in range(n_iterations):\n",
    "        X_sample = resample(X_test)\n",
    "        preds_sample = model.predict(X_sample)\n",
    "        preds.append(preds_sample)\n",
    "    preds = np.array(preds)\n",
    "    lower = np.percentile(preds, 2.5, axis=0)\n",
    "    upper = np.percentile(preds, 97.5, axis=0)\n",
    "    return lower, upper\n",
    "\n",
    "lower_ci, upper_ci = bootstrap_predictions(regression_pipeline, X_test)\n"
   ]
  },
  {
   "cell_type": "code",
   "execution_count": 28,
   "metadata": {},
   "outputs": [
    {
     "data": {
      "image/png": "[encoded data removed]",
      "text/plain": [
       "<Figure size 1000x600 with 1 Axes>"
      ]
     },
     "metadata": {},
     "output_type": "display_data"
    }
   ],
   "source": [
    "logging.info('plot the confidence interval')\n",
    "plt.figure(figsize=(10, 6))\n",
    "plt.plot(y_pred, label='Predictions', color='blue')\n",
    "plt.fill_between(range(len(y_pred)), lower_ci, upper_ci, color='lightblue', alpha=0.5, label='Confidence Interval (95%)')\n",
    "plt.title('Predictions with 95% Confidence Intervals')\n",
    "plt.xlabel('Sample Index')\n",
    "plt.ylabel('Predicted Sales')\n",
    "plt.legend()\n",
    "plt.show()"
   ]
  },
  {
   "cell_type": "code",
   "execution_count": 29,
   "metadata": {},
   "outputs": [
    {
     "name": "stdout",
     "output_type": "stream",
     "text": [
      "Model saved as model_24-09-2024-18-09-31.pkl\n"
     ]
    }
   ],
   "source": [
    "logging.info('serialize the model')\n",
    "import joblib\n",
    "from datetime import datetime\n",
    "\n",
    "# Serialize the model\n",
    "timestamp = datetime.now().strftime('%d-%m-%Y-%H-%M-%S')\n",
    "filename = f'model_{timestamp}.pkl'\n",
    "joblib.dump(regression_pipeline, filename)\n",
    "\n",
    "print(f'Model saved as {filename}')"
   ]
  },
  {
   "cell_type": "code",
   "execution_count": 30,
   "metadata": {},
   "outputs": [],
   "source": [
    "logging.info('building the lstm')\n",
    "df['Date'] = pd.to_datetime(df['Date'])\n",
    "\n",
    "# Set the date as index\n",
    "df.set_index('Date', inplace=True)\n",
    "\n",
    "# Isolate the sales column\n",
    "sales_data = df['Sales'].values"
   ]
  },
  {
   "cell_type": "code",
   "execution_count": 31,
   "metadata": {},
   "outputs": [
    {
     "name": "stdout",
     "output_type": "stream",
     "text": [
      "ADF Statistic: -7.1628865910815644\n",
      "p-value: 2.936784976811045e-10\n"
     ]
    }
   ],
   "source": [
    "logging.info('check for the Stationarity')\n",
    "from statsmodels.tsa.stattools import adfuller\n",
    "\n",
    "result = adfuller(sales_data)\n",
    "print('ADF Statistic:', result[0])\n",
    "print('p-value:', result[1])\n"
   ]
  },
  {
   "cell_type": "code",
   "execution_count": 32,
   "metadata": {},
   "outputs": [],
   "source": [
    "logging.info('diffrencing')\n",
    "if result[1] > 0.05:\n",
    "    sales_data_diff = np.diff(sales_data)\n",
    "else:\n",
    "    sales_data_diff = sales_data\n"
   ]
  },
  {
   "cell_type": "code",
   "execution_count": 33,
   "metadata": {},
   "outputs": [
    {
     "data": {
      "text/plain": [
       "<Figure size 1200x600 with 0 Axes>"
      ]
     },
     "metadata": {},
     "output_type": "display_data"
    },
    {
     "data": {
      "image/png": "[encoded data removed]",
      "text/plain": [
       "<Figure size 640x480 with 1 Axes>"
      ]
     },
     "metadata": {},
     "output_type": "display_data"
    },
    {
     "data": {
      "text/plain": [
       "<Figure size 1200x600 with 0 Axes>"
      ]
     },
     "metadata": {},
     "output_type": "display_data"
    },
    {
     "data": {
      "image/png": "[encoded data removed]",
      "text/plain": [
       "<Figure size 640x480 with 1 Axes>"
      ]
     },
     "metadata": {},
     "output_type": "display_data"
    }
   ],
   "source": [
    "logging.info('Check the auto correlation')\n",
    "from statsmodels.graphics.tsaplots import plot_acf, plot_pacf\n",
    "\n",
    "plt.figure(figsize=(12, 6))\n",
    "plot_acf(sales_data_diff, lags=20)\n",
    "plt.title('Autocorrelation Function')\n",
    "plt.show()\n",
    "\n",
    "plt.figure(figsize=(12, 6))\n",
    "plot_pacf(sales_data_diff, lags=20)\n",
    "plt.title('Partial Autocorrelation Function')\n",
    "plt.show()\n"
   ]
  },
  {
   "cell_type": "code",
   "execution_count": 34,
   "metadata": {},
   "outputs": [],
   "source": [
    "def create_dataset(data, time_step=1):\n",
    "    X, y = [], []\n",
    "    for i in range(len(data) - time_step - 1):\n",
    "        a = data[i:(i + time_step)]\n",
    "        X.append(a)\n",
    "        y.append(data[i + time_step])\n",
    "    return np.array(X), np.array(y)\n",
    "\n",
    "time_step = 10\n",
    "X, y = create_dataset(sales_data_diff, time_step)\n"
   ]
  },
  {
   "cell_type": "code",
   "execution_count": 35,
   "metadata": {},
   "outputs": [],
   "source": [
    "from sklearn.preprocessing import MinMaxScaler\n",
    "\n",
    "scaler = MinMaxScaler(feature_range=(-1, 1))\n",
    "X_scaled = scaler.fit_transform(X.reshape(-1, 1)).reshape(X.shape)\n",
    "y_scaled = scaler.fit_transform(y.reshape(-1, 1)).reshape(-1, 1)\n"
   ]
  },
  {
   "cell_type": "code",
   "execution_count": 36,
   "metadata": {},
   "outputs": [
    {
     "name": "stderr",
     "output_type": "stream",
     "text": [
      "2024-09-24 18:09:57.072114: I tensorflow/core/util/port.cc:110] oneDNN custom operations are on. You may see slightly different numerical results due to floating-point round-off errors from different computation orders. To turn them off, set the environment variable `TF_ENABLE_ONEDNN_OPTS=0`.\n",
      "2024-09-24 18:09:57.151406: I tensorflow/tsl/cuda/cudart_stub.cc:28] Could not find cuda drivers on your machine, GPU will not be used.\n",
      "2024-09-24 18:09:57.521339: I tensorflow/tsl/cuda/cudart_stub.cc:28] Could not find cuda drivers on your machine, GPU will not be used.\n",
      "2024-09-24 18:09:57.522572: I tensorflow/core/platform/cpu_feature_guard.cc:182] This TensorFlow binary is optimized to use available CPU instructions in performance-critical operations.\n",
      "To enable the following instructions: AVX2 AVX512F AVX512_VNNI FMA, in other operations, rebuild TensorFlow with the appropriate compiler flags.\n",
      "2024-09-24 18:09:58.564718: W tensorflow/compiler/tf2tensorrt/utils/py_utils.cc:38] TF-TRT Warning: Could not find TensorRT\n"
     ]
    },
    {
     "name": "stdout",
     "output_type": "stream",
     "text": [
      "TensorFlow version: 2.12.0\n",
      "Any NaN in X_scaled: False\n",
      "Any Inf in X_scaled: False\n",
      "Any NaN in y_scaled: False\n",
      "Any Inf in y_scaled: False\n"
     ]
    }
   ],
   "source": [
    "import tensorflow as tf\n",
    "import numpy as np\n",
    "\n",
    "print(f\"TensorFlow version: {tf.__version__}\")\n",
    "\n",
    "print(f\"Any NaN in X_scaled: {np.isnan(X_scaled).any()}\")\n",
    "print(f\"Any Inf in X_scaled: {np.isinf(X_scaled).any()}\")\n",
    "print(f\"Any NaN in y_scaled: {np.isnan(y_scaled).any()}\")\n",
    "print(f\"Any Inf in y_scaled: {np.isinf(y_scaled).any()}\")"
   ]
  },
  {
   "cell_type": "code",
   "execution_count": 37,
   "metadata": {},
   "outputs": [
    {
     "name": "stderr",
     "output_type": "stream",
     "text": [
      "WARNING:tensorflow:From /tmp/ipykernel_15627/2003337860.py:5: is_gpu_available (from tensorflow.python.framework.test_util) is deprecated and will be removed in a future version.\n",
      "Instructions for updating:\n",
      "Use `tf.config.list_physical_devices('GPU')` instead.\n"
     ]
    },
    {
     "name": "stdout",
     "output_type": "stream",
     "text": [
      "TensorFlow version: 2.12.0\n",
      "Keras version: 2.12.0\n",
      "Is TensorFlow built with CUDA: True\n",
      "Is GPU available: False\n"
     ]
    }
   ],
   "source": [
    "import tensorflow as tf\n",
    "print(f\"TensorFlow version: {tf.__version__}\")\n",
    "print(f\"Keras version: {tf.keras.__version__}\")\n",
    "print(f\"Is TensorFlow built with CUDA: {tf.test.is_built_with_cuda()}\")\n",
    "print(f\"Is GPU available: {tf.test.is_gpu_available()}\")"
   ]
  },
  {
   "cell_type": "code",
   "execution_count": 38,
   "metadata": {},
   "outputs": [
    {
     "name": "stdout",
     "output_type": "stream",
     "text": [
      "Epoch 1/5\n"
     ]
    },
    {
     "name": "stderr",
     "output_type": "stream",
     "text": [
      "2024-09-24 18:10:00.459957: I tensorflow/core/common_runtime/executor.cc:1197] [/device:CPU:0] (DEBUG INFO) Executor start aborting (this does not indicate an error and you can ignore this message): INVALID_ARGUMENT: You must feed a value for placeholder tensor 'gradients/split_2_grad/concat/split_2/split_dim' with dtype int32\n",
      "\t [[{{node gradients/split_2_grad/concat/split_2/split_dim}}]]\n",
      "2024-09-24 18:10:00.461306: I tensorflow/core/common_runtime/executor.cc:1197] [/device:CPU:0] (DEBUG INFO) Executor start aborting (this does not indicate an error and you can ignore this message): INVALID_ARGUMENT: You must feed a value for placeholder tensor 'gradients/split_grad/concat/split/split_dim' with dtype int32\n",
      "\t [[{{node gradients/split_grad/concat/split/split_dim}}]]\n",
      "2024-09-24 18:10:00.462012: I tensorflow/core/common_runtime/executor.cc:1197] [/device:CPU:0] (DEBUG INFO) Executor start aborting (this does not indicate an error and you can ignore this message): INVALID_ARGUMENT: You must feed a value for placeholder tensor 'gradients/split_1_grad/concat/split_1/split_dim' with dtype int32\n",
      "\t [[{{node gradients/split_1_grad/concat/split_1/split_dim}}]]\n",
      "2024-09-24 18:10:00.718997: I tensorflow/core/common_runtime/executor.cc:1197] [/device:CPU:0] (DEBUG INFO) Executor start aborting (this does not indicate an error and you can ignore this message): INVALID_ARGUMENT: You must feed a value for placeholder tensor 'gradients/split_2_grad/concat/split_2/split_dim' with dtype int32\n",
      "\t [[{{node gradients/split_2_grad/concat/split_2/split_dim}}]]\n",
      "2024-09-24 18:10:00.720212: I tensorflow/core/common_runtime/executor.cc:1197] [/device:CPU:0] (DEBUG INFO) Executor start aborting (this does not indicate an error and you can ignore this message): INVALID_ARGUMENT: You must feed a value for placeholder tensor 'gradients/split_grad/concat/split/split_dim' with dtype int32\n",
      "\t [[{{node gradients/split_grad/concat/split/split_dim}}]]\n",
      "2024-09-24 18:10:00.721173: I tensorflow/core/common_runtime/executor.cc:1197] [/device:CPU:0] (DEBUG INFO) Executor start aborting (this does not indicate an error and you can ignore this message): INVALID_ARGUMENT: You must feed a value for placeholder tensor 'gradients/split_1_grad/concat/split_1/split_dim' with dtype int32\n",
      "\t [[{{node gradients/split_1_grad/concat/split_1/split_dim}}]]\n",
      "2024-09-24 18:10:01.116607: I tensorflow/core/common_runtime/executor.cc:1197] [/device:CPU:0] (DEBUG INFO) Executor start aborting (this does not indicate an error and you can ignore this message): INVALID_ARGUMENT: You must feed a value for placeholder tensor 'gradients/split_2_grad/concat/split_2/split_dim' with dtype int32\n",
      "\t [[{{node gradients/split_2_grad/concat/split_2/split_dim}}]]\n",
      "2024-09-24 18:10:01.117694: I tensorflow/core/common_runtime/executor.cc:1197] [/device:CPU:0] (DEBUG INFO) Executor start aborting (this does not indicate an error and you can ignore this message): INVALID_ARGUMENT: You must feed a value for placeholder tensor 'gradients/split_grad/concat/split/split_dim' with dtype int32\n",
      "\t [[{{node gradients/split_grad/concat/split/split_dim}}]]\n",
      "2024-09-24 18:10:01.118474: I tensorflow/core/common_runtime/executor.cc:1197] [/device:CPU:0] (DEBUG INFO) Executor start aborting (this does not indicate an error and you can ignore this message): INVALID_ARGUMENT: You must feed a value for placeholder tensor 'gradients/split_1_grad/concat/split_1/split_dim' with dtype int32\n",
      "\t [[{{node gradients/split_1_grad/concat/split_1/split_dim}}]]\n"
     ]
    },
    {
     "name": "stdout",
     "output_type": "stream",
     "text": [
      "32/32 [==============================] - 1s 2ms/step - loss: 0.2951\n",
      "Epoch 2/5\n",
      "32/32 [==============================] - 0s 2ms/step - loss: 0.1316\n",
      "Epoch 3/5\n",
      "32/32 [==============================] - 0s 2ms/step - loss: 0.0852\n",
      "Epoch 4/5\n",
      "32/32 [==============================] - 0s 2ms/step - loss: 0.0833\n",
      "Epoch 5/5\n",
      "32/32 [==============================] - 0s 2ms/step - loss: 0.0833\n"
     ]
    },
    {
     "data": {
      "text/plain": [
       "<keras.callbacks.History at 0x7f83386f4910>"
      ]
     },
     "execution_count": 38,
     "metadata": {},
     "output_type": "execute_result"
    }
   ],
   "source": [
    "import numpy as np\n",
    "import tensorflow as tf\n",
    "\n",
    "# Create dummy data\n",
    "X_dummy = np.random.rand(1000, 10, 1).astype(np.float32)\n",
    "y_dummy = np.random.rand(1000, 1).astype(np.float32)\n",
    "\n",
    "# Build model using functional API\n",
    "inputs = tf.keras.Input(shape=(10, 1))\n",
    "x = tf.keras.layers.LSTM(10)(inputs)\n",
    "outputs = tf.keras.layers.Dense(1)(x)\n",
    "functional_model = tf.keras.Model(inputs=inputs, outputs=outputs)\n",
    "\n",
    "# Compile model\n",
    "functional_model.compile(optimizer='adam', loss='mean_squared_error')\n",
    "\n",
    "# Fit the model\n",
    "functional_model.fit(X_dummy, y_dummy, epochs=5, batch_size=32)"
   ]
  }
 ],
 "metadata": {
  "kernelspec": {
   "display_name": "env",
   "language": "python",
   "name": "python3"
  },
  "language_info": {
   "codemirror_mode": {
    "name": "ipython",
    "version": 3
   },
   "file_extension": ".py",
   "mimetype": "text/x-python",
   "name": "python",
   "nbconvert_exporter": "python",
   "pygments_lexer": "ipython3",
   "version": "3.11.4"
  }
 },
 "nbformat": 4,
 "nbformat_minor": 2
}
